{
 "cells": [
  {
   "cell_type": "markdown",
   "id": "be86a3a5-c599-4ffc-a4d0-58dd303f05d1",
   "metadata": {},
   "source": [
    "# texual data : string"
   ]
  },
  {
   "cell_type": "markdown",
   "id": "d176b8f0-90c6-41cf-b2f5-0cfe6f6c86e9",
   "metadata": {},
   "source": []
  },
  {
   "cell_type": "code",
   "execution_count": 4,
   "id": "00823204-efcd-4c64-af7e-5818556089d9",
   "metadata": {},
   "outputs": [
    {
     "name": "stdout",
     "output_type": "stream",
     "text": [
      "Hello world\n",
      "Hello world\n"
     ]
    }
   ],
   "source": [
    "message = 'Hello world'\n",
    "print('Hello world')\n",
    "print(message)\n"
   ]
  },
  {
   "cell_type": "code",
   "execution_count": 5,
   "id": "59eaadf9-08d7-452e-a3d1-084ad99b6368",
   "metadata": {},
   "outputs": [
    {
     "name": "stdout",
     "output_type": "stream",
     "text": [
      "11\n"
     ]
    }
   ],
   "source": [
    "print(len(message))"
   ]
  },
  {
   "cell_type": "code",
   "execution_count": 6,
   "id": "95dddb2a-f8cc-42fb-a038-0b3006f06832",
   "metadata": {},
   "outputs": [
    {
     "name": "stdout",
     "output_type": "stream",
     "text": [
      "l\n"
     ]
    }
   ],
   "source": [
    "print(message[9])"
   ]
  },
  {
   "cell_type": "code",
   "execution_count": 7,
   "id": "22ea2c67-5f81-440b-80ca-1755b70ad9c6",
   "metadata": {},
   "outputs": [
    {
     "name": "stdout",
     "output_type": "stream",
     "text": [
      "l\n"
     ]
    }
   ],
   "source": [
    "print(message[3])"
   ]
  },
  {
   "cell_type": "code",
   "execution_count": 8,
   "id": "3bbefcae-7572-413a-8524-5468bad8c8c3",
   "metadata": {},
   "outputs": [
    {
     "name": "stdout",
     "output_type": "stream",
     "text": [
      "o\n"
     ]
    }
   ],
   "source": [
    "print(message[4])"
   ]
  },
  {
   "cell_type": "code",
   "execution_count": 9,
   "id": "df7d66ab-9e40-46eb-92e1-45d9c84036b3",
   "metadata": {},
   "outputs": [
    {
     "name": "stdout",
     "output_type": "stream",
     "text": [
      "ello\n"
     ]
    }
   ],
   "source": [
    "print(message[1:5])"
   ]
  },
  {
   "cell_type": "code",
   "execution_count": 10,
   "id": "803065ad-27cb-4c57-8554-cb8f3b05fe15",
   "metadata": {},
   "outputs": [
    {
     "name": "stdout",
     "output_type": "stream",
     "text": [
      "world\n"
     ]
    }
   ],
   "source": [
    "print(message[6:])"
   ]
  },
  {
   "cell_type": "code",
   "execution_count": 11,
   "id": "b47f8fb9-8428-43fe-b0c9-28522b4fe087",
   "metadata": {},
   "outputs": [
    {
     "name": "stdout",
     "output_type": "stream",
     "text": [
      "Hello world\n"
     ]
    }
   ],
   "source": [
    "print(message)"
   ]
  },
  {
   "cell_type": "code",
   "execution_count": 12,
   "id": "365d6cb1-6041-4dc8-ac02-2adba251b285",
   "metadata": {},
   "outputs": [
    {
     "name": "stdout",
     "output_type": "stream",
     "text": [
      "hello world\n"
     ]
    }
   ],
   "source": [
    "print(message.lower())"
   ]
  },
  {
   "cell_type": "code",
   "execution_count": 13,
   "id": "d951cebc-17ad-4f37-88df-2268e77f1dde",
   "metadata": {},
   "outputs": [
    {
     "name": "stdout",
     "output_type": "stream",
     "text": [
      "HELLO WORLD\n"
     ]
    }
   ],
   "source": [
    "print(message.upper())"
   ]
  },
  {
   "cell_type": "code",
   "execution_count": 15,
   "id": "b026f1e0-4d96-476e-a3cf-6002c98efb63",
   "metadata": {},
   "outputs": [
    {
     "name": "stdout",
     "output_type": "stream",
     "text": [
      "2\n"
     ]
    }
   ],
   "source": [
    "print(message.find('l'))\n",
    "    "
   ]
  },
  {
   "cell_type": "code",
   "execution_count": 17,
   "id": "6dff4ad4-f2bb-441c-b3c3-f41fe2bd7cff",
   "metadata": {},
   "outputs": [
    {
     "name": "stdout",
     "output_type": "stream",
     "text": [
      "6\n"
     ]
    }
   ],
   "source": [
    "print(message.find('w'))"
   ]
  },
  {
   "cell_type": "code",
   "execution_count": 20,
   "id": "fd7a2b03-9886-44bb-8fc9-3f213a644cba",
   "metadata": {},
   "outputs": [
    {
     "name": "stdout",
     "output_type": "stream",
     "text": [
      "Hello Universe\n"
     ]
    }
   ],
   "source": [
    "message = 'Hello world'\n",
    "message = message.replace('world', 'Universe')\n",
    "print(message)"
   ]
  },
  {
   "cell_type": "code",
   "execution_count": 24,
   "id": "49ce8168-b45f-4a5d-8791-0c1704f2136c",
   "metadata": {},
   "outputs": [
    {
     "name": "stdout",
     "output_type": "stream",
     "text": [
      "HelloMichael\n",
      "Hello,Michael\n",
      "Hello, Michael. welcome!\n"
     ]
    }
   ],
   "source": [
    "greeting = 'Hello'\n",
    "name = 'Michael'\n",
    "message = greeting + name\n",
    "print(message) #common mistake while concatenated strings together instead add string between them\n",
    "\n",
    "message = greeting + ',' + name\n",
    "print(message)\n",
    "\n",
    "message = '{0}, {1}. welcome!'.format(greeting,name)\n",
    "print(message)"
   ]
  },
  {
   "cell_type": "code",
   "execution_count": 27,
   "id": "4c987202-90fe-4bc2-b32b-65203bc5c17a",
   "metadata": {},
   "outputs": [
    {
     "name": "stdout",
     "output_type": "stream",
     "text": [
      "Hello, Michael, Welcome!\n"
     ]
    }
   ],
   "source": [
    "print(f'{greeting}, {name}, Welcome!')\n"
   ]
  },
  {
   "cell_type": "code",
   "execution_count": null,
   "id": "2be3e97d-72a7-4001-84f8-439290f156b3",
   "metadata": {},
   "outputs": [],
   "source": []
  }
 ],
 "metadata": {
  "kernelspec": {
   "display_name": "Python 3 (ipykernel)",
   "language": "python",
   "name": "python3"
  },
  "language_info": {
   "codemirror_mode": {
    "name": "ipython",
    "version": 3
   },
   "file_extension": ".py",
   "mimetype": "text/x-python",
   "name": "python",
   "nbconvert_exporter": "python",
   "pygments_lexer": "ipython3",
   "version": "3.13.3"
  }
 },
 "nbformat": 4,
 "nbformat_minor": 5
}
