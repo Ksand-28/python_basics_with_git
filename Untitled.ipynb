{
 "cells": [
  {
   "cell_type": "code",
   "execution_count": 1,
   "id": "68f9b6ab-13f5-4e42-b242-3b8e6a2fac06",
   "metadata": {},
   "outputs": [
    {
     "name": "stdout",
     "output_type": "stream",
     "text": [
      "Hello World\n"
     ]
    }
   ],
   "source": [
    "print('Hello World')"
   ]
  },
  {
   "cell_type": "code",
   "execution_count": 2,
   "id": "f5c1837b-c456-498a-9a8e-8ba662bedb45",
   "metadata": {},
   "outputs": [],
   "source": [
    "x = 2*2"
   ]
  },
  {
   "cell_type": "code",
   "execution_count": 4,
   "id": "2bd3d1dc-34ff-4db6-9fd6-b346b6357b9b",
   "metadata": {},
   "outputs": [
    {
     "name": "stdout",
     "output_type": "stream",
     "text": [
      "x values is :  4\n"
     ]
    }
   ],
   "source": [
    "print(\"x values is : \", x)"
   ]
  },
  {
   "cell_type": "code",
   "execution_count": null,
   "id": "d05431fe-6b98-4a8f-a3f3-4e5228bc1e65",
   "metadata": {},
   "outputs": [],
   "source": []
  }
 ],
 "metadata": {
  "kernelspec": {
   "display_name": "Python 3 (ipykernel)",
   "language": "python",
   "name": "python3"
  },
  "language_info": {
   "codemirror_mode": {
    "name": "ipython",
    "version": 3
   },
   "file_extension": ".py",
   "mimetype": "text/x-python",
   "name": "python",
   "nbconvert_exporter": "python",
   "pygments_lexer": "ipython3",
   "version": "3.13.3"
  }
 },
 "nbformat": 4,
 "nbformat_minor": 5
}
